{
  "nbformat": 4,
  "nbformat_minor": 0,
  "metadata": {
    "colab": {
      "provenance": []
    },
    "kernelspec": {
      "name": "python3",
      "display_name": "Python 3"
    },
    "language_info": {
      "name": "python"
    }
  },
  "cells": [
    {
      "cell_type": "code",
      "source": [
        "import numpy as np"
      ],
      "metadata": {
        "id": "6zo4_zljNzqP"
      },
      "execution_count": 5,
      "outputs": []
    },
    {
      "cell_type": "code",
      "execution_count": 6,
      "metadata": {
        "colab": {
          "base_uri": "https://localhost:8080/"
        },
        "id": "iz3Qq0mwMkm-",
        "outputId": "09a4efdc-62fc-4836-85fd-0a8798f23ad3"
      },
      "outputs": [
        {
          "output_type": "stream",
          "name": "stdout",
          "text": [
            "Вектор з першими 10-ма натуральними числами:\n",
            " [ 1  2  3  4  5  6  7  8  9 10]\n"
          ]
        }
      ],
      "source": [
        "vector_1d = np.arange(1, 11)\n",
        "print(\"Вектор з першими 10-ма натуральними числами:\\n\", vector_1d)"
      ]
    },
    {
      "cell_type": "code",
      "source": [
        "matrix_3x3 = np.zeros((3, 3))\n",
        "print(\"\\nМатриця 3x3, заповнена нулями:\\n\", matrix_3x3)"
      ],
      "metadata": {
        "colab": {
          "base_uri": "https://localhost:8080/"
        },
        "id": "XJRgqLhyM0Rz",
        "outputId": "109e2177-2b75-4ca3-dbd6-6994cc9c7cb1"
      },
      "execution_count": 7,
      "outputs": [
        {
          "output_type": "stream",
          "name": "stdout",
          "text": [
            "\n",
            "Матриця 3x3, заповнена нулями:\n",
            " [[0. 0. 0.]\n",
            " [0. 0. 0.]\n",
            " [0. 0. 0.]]\n"
          ]
        }
      ]
    },
    {
      "cell_type": "code",
      "source": [
        "matrix_5x5 = np.random.randint(1, 11, size=(5, 5))\n",
        "print(\"\\nМасив 5x5, заповнений випадковими цілими числами від 1 до 10:\\n\", matrix_5x5)"
      ],
      "metadata": {
        "colab": {
          "base_uri": "https://localhost:8080/"
        },
        "id": "PTznRt-TM8B_",
        "outputId": "2c2b28bc-09aa-41e8-f26b-041c35d447d3"
      },
      "execution_count": 8,
      "outputs": [
        {
          "output_type": "stream",
          "name": "stdout",
          "text": [
            "\n",
            "Масив 5x5, заповнений випадковими цілими числами від 1 до 10:\n",
            " [[7 5 1 3 3]\n",
            " [2 6 1 8 5]\n",
            " [4 9 5 3 8]\n",
            " [6 2 1 5 1]\n",
            " [8 7 3 9 3]]\n"
          ]
        }
      ]
    },
    {
      "cell_type": "code",
      "source": [
        "matrix_4x4 = np.random.rand(4, 4)\n",
        "print(\"\\nМасив 4x4, заповнений випадковими дійсними числами від 0 до 1:\\n\", matrix_4x4)"
      ],
      "metadata": {
        "colab": {
          "base_uri": "https://localhost:8080/"
        },
        "id": "HkSjlBHkM8JA",
        "outputId": "dc5fe860-fb47-4948-bc98-ddd74547c020"
      },
      "execution_count": 9,
      "outputs": [
        {
          "output_type": "stream",
          "name": "stdout",
          "text": [
            "\n",
            "Масив 4x4, заповнений випадковими дійсними числами від 0 до 1:\n",
            " [[0.98011052 0.1315524  0.29586241 0.52272388]\n",
            " [0.78860603 0.34085893 0.52558154 0.28908996]\n",
            " [0.90873925 0.30934355 0.55920462 0.51200051]\n",
            " [0.89311095 0.65344578 0.25408594 0.96291154]]\n"
          ]
        }
      ]
    },
    {
      "cell_type": "code",
      "source": [
        "vector_a = np.random.randint(1, 11, size=5)\n",
        "vector_b = np.random.randint(1, 11, size=5)\n",
        "addition = vector_a + vector_b\n",
        "subtraction = vector_a - vector_b\n",
        "multiplication = vector_a * vector_b\n",
        "print(\"\\nВектор A:\\n\", vector_a)\n",
        "print(\"Вектор B:\\n\", vector_b)\n",
        "print(\"Додавання:\\n\", addition)\n",
        "print(\"Віднімання:\\n\", subtraction)\n",
        "print(\"Множення:\\n\", multiplication)\n"
      ],
      "metadata": {
        "colab": {
          "base_uri": "https://localhost:8080/"
        },
        "id": "6adVYHdfM8QA",
        "outputId": "7ec9a3c1-c5f4-4105-c4f2-5c47373e29c3"
      },
      "execution_count": 10,
      "outputs": [
        {
          "output_type": "stream",
          "name": "stdout",
          "text": [
            "\n",
            "Вектор A:\n",
            " [ 3  8  5 10  4]\n",
            "Вектор B:\n",
            " [3 7 7 7 2]\n",
            "Додавання:\n",
            " [ 6 15 12 17  6]\n",
            "Віднімання:\n",
            " [ 0  1 -2  3  2]\n",
            "Множення:\n",
            " [ 9 56 35 70  8]\n"
          ]
        }
      ]
    },
    {
      "cell_type": "code",
      "source": [
        "vector_c = np.random.random(7)\n",
        "vector_d = np.random.random(7)\n",
        "dot_product = np.dot(vector_c, vector_d)\n",
        "print(\"\\nВектор C:\\n\", vector_c)\n",
        "print(\"Вектор D:\\n\", vector_d)\n",
        "print(\"Скалярний добуток:\\n\", dot_product)"
      ],
      "metadata": {
        "colab": {
          "base_uri": "https://localhost:8080/"
        },
        "id": "RlSU-qKHM8XH",
        "outputId": "4a812932-bf3f-42e8-d782-d9313d87b911"
      },
      "execution_count": 11,
      "outputs": [
        {
          "output_type": "stream",
          "name": "stdout",
          "text": [
            "\n",
            "Вектор C:\n",
            " [0.71540173 0.16633607 0.16713278 0.67463303 0.1033195  0.75293192\n",
            " 0.89072864]\n",
            "Вектор D:\n",
            " [0.90268414 0.20419299 0.7824276  0.00437767 0.83054695 0.35831095\n",
            " 0.66884177]\n",
            "Скалярний добуток:\n",
            " 1.7648210591081481\n"
          ]
        }
      ]
    },
    {
      "cell_type": "code",
      "source": [
        "matrix_1 = np.random.randint(1, 11, size=(2, 2))\n",
        "matrix_2 = np.random.randint(1, 11, size=(2, 3))\n",
        "matrix_product = np.dot(matrix_1, matrix_2)\n",
        "print(\"\\nМатриця 1:\\n\", matrix_1)\n",
        "print(\"Матриця 2:\\n\", matrix_2)\n",
        "print(\"Добуток матриць 1 та 2:\\n\", matrix_product)"
      ],
      "metadata": {
        "colab": {
          "base_uri": "https://localhost:8080/"
        },
        "id": "DKZREVQmM8dX",
        "outputId": "240668b9-b8a1-4b02-d1f2-3680ae26f5d4"
      },
      "execution_count": 13,
      "outputs": [
        {
          "output_type": "stream",
          "name": "stdout",
          "text": [
            "\n",
            "Матриця 1:\n",
            " [[10  9]\n",
            " [ 8  3]]\n",
            "Матриця 2:\n",
            " [[6 5 7]\n",
            " [2 6 8]]\n",
            "Добуток матриць 1 та 2:\n",
            " [[ 78 104 142]\n",
            " [ 54  58  80]]\n"
          ]
        }
      ]
    },
    {
      "cell_type": "code",
      "source": [
        "matrix_a = np.random.randint(1, 11, size=(3, 3))\n",
        "inverse_matrix_a = np.linalg.inv(matrix_a)\n",
        "print(\"\\nМатриця A:\\n\", matrix_a)\n",
        "print(\"Обернена матриця A:\\n\", inverse_matrix_a)"
      ],
      "metadata": {
        "colab": {
          "base_uri": "https://localhost:8080/"
        },
        "id": "ngR2LJMbM0aH",
        "outputId": "4540a792-844a-4b82-8ef2-cd259484028b"
      },
      "execution_count": 14,
      "outputs": [
        {
          "output_type": "stream",
          "name": "stdout",
          "text": [
            "\n",
            "Матриця A:\n",
            " [[ 9  6 10]\n",
            " [10  5 10]\n",
            " [ 1  9  4]]\n",
            "Обернена матриця A:\n",
            " [[-1.75   1.65   0.25 ]\n",
            " [-0.75   0.65   0.25 ]\n",
            " [ 2.125 -1.875 -0.375]]\n"
          ]
        }
      ]
    },
    {
      "cell_type": "code",
      "source": [
        "matrix_a = np.random.rand(4, 4)\n",
        "transposed_matrix_a = np.transpose(matrix_a)\n",
        "print(\"\\nМатриця A:\\n\", matrix_a)\n",
        "print(\"Транспонована матриця A:\\n\", transposed_matrix_a)"
      ],
      "metadata": {
        "colab": {
          "base_uri": "https://localhost:8080/"
        },
        "id": "eMvSLBAXM0pw",
        "outputId": "07f2fee7-ca5f-4345-ad7d-3efd7cee38ea"
      },
      "execution_count": 15,
      "outputs": [
        {
          "output_type": "stream",
          "name": "stdout",
          "text": [
            "\n",
            "Матриця A:\n",
            " [[0.98291695 0.70317152 0.80094582 0.35916449]\n",
            " [0.22667572 0.20101228 0.51886808 0.75842835]\n",
            " [0.60917067 0.25116937 0.291104   0.57401423]\n",
            " [0.14936429 0.39853904 0.6042798  0.17103793]]\n",
            "Транспонована матриця A:\n",
            " [[0.98291695 0.22667572 0.60917067 0.14936429]\n",
            " [0.70317152 0.20101228 0.25116937 0.39853904]\n",
            " [0.80094582 0.51886808 0.291104   0.6042798 ]\n",
            " [0.35916449 0.75842835 0.57401423 0.17103793]]\n"
          ]
        }
      ]
    },
    {
      "cell_type": "code",
      "source": [
        "matrix_i = np.random.randint(1, 11, size=(3, 4))\n",
        "vector_e = np.random.randint(1, 11, size=4)\n",
        "matrix_vector_product = np.dot(matrix_i, vector_e)\n",
        "print(\"\\nМатриця I:\\n\", matrix_i)\n",
        "print(\"Вектор E:\\n\", vector_e)\n",
        "print(\"Добуток матриці I та вектора E:\\n\", matrix_vector_product)"
      ],
      "metadata": {
        "colab": {
          "base_uri": "https://localhost:8080/"
        },
        "id": "56LbBIbYM0x4",
        "outputId": "f78c0236-d0bf-414a-f3f0-04ac8bc5b8e6"
      },
      "execution_count": 16,
      "outputs": [
        {
          "output_type": "stream",
          "name": "stdout",
          "text": [
            "\n",
            "Матриця I:\n",
            " [[ 1  9  7  8]\n",
            " [ 6 10  3  2]\n",
            " [ 7  5 10 10]]\n",
            "Вектор E:\n",
            " [ 5  5  8 10]\n",
            "Добуток матриці I та вектора E:\n",
            " [186 124 240]\n"
          ]
        }
      ]
    },
    {
      "cell_type": "code",
      "source": [
        "matrix_j = np.random.rand(2, 3)\n",
        "vector_f = np.random.rand(3)\n",
        "matrix_vector_product_j = np.dot(matrix_j, vector_f)\n",
        "print(\"\\nМатриця J:\\n\", matrix_j)\n",
        "print(\"Вектор F:\\n\", vector_f)\n",
        "print(\"Добуток матриці J та вектора F:\\n\", matrix_vector_product_j)"
      ],
      "metadata": {
        "colab": {
          "base_uri": "https://localhost:8080/"
        },
        "id": "-MxptRBZM05M",
        "outputId": "30067f9a-2739-41f6-ad82-e223b69dddee"
      },
      "execution_count": 17,
      "outputs": [
        {
          "output_type": "stream",
          "name": "stdout",
          "text": [
            "\n",
            "Матриця J:\n",
            " [[0.16165409 0.73665124 0.85397242]\n",
            " [0.80716995 0.33233723 0.77007614]]\n",
            "Вектор F:\n",
            " [0.81899636 0.91441944 0.02536759]\n",
            "Добуток матриці J та вектора F:\n",
            " [0.82766555 0.98449984]\n"
          ]
        }
      ]
    },
    {
      "cell_type": "code",
      "source": [
        "matrix_k = np.random.randint(1, 11, size=(2, 2))\n",
        "matrix_l = np.random.randint(1, 11, size=(2, 2))\n",
        "elementwise_multiplication = matrix_k * matrix_l\n",
        "print(\"\\nМатриця K:\\n\", matrix_k)\n",
        "print(\"Матриця L:\\n\", matrix_l)\n",
        "print(\"Поелементне множення матриць K та L:\\n\", elementwise_multiplication)"
      ],
      "metadata": {
        "colab": {
          "base_uri": "https://localhost:8080/"
        },
        "id": "78G8NH47M0-_",
        "outputId": "b5d049b0-0cc8-4440-9325-5699c3eee4bb"
      },
      "execution_count": 18,
      "outputs": [
        {
          "output_type": "stream",
          "name": "stdout",
          "text": [
            "\n",
            "Матриця K:\n",
            " [[9 9]\n",
            " [3 1]]\n",
            "Матриця L:\n",
            " [[6 5]\n",
            " [8 5]]\n",
            "Поелементне множення матриць K та L:\n",
            " [[54 45]\n",
            " [24  5]]\n"
          ]
        }
      ]
    },
    {
      "cell_type": "code",
      "source": [
        "matrix_m = np.random.randint(1, 11, size=(2, 2))\n",
        "matrix_n = np.random.randint(1, 11, size=(2, 2))\n",
        "matrix_product_mn = np.dot(matrix_m, matrix_n)\n",
        "print(\"\\nМатриця M:\\n\", matrix_m)\n",
        "print(\"Матриця N:\\n\", matrix_n)\n",
        "print(\"Добуток матриць M та N:\\n\", matrix_product_mn)"
      ],
      "metadata": {
        "colab": {
          "base_uri": "https://localhost:8080/"
        },
        "id": "DEdLloS7M1F_",
        "outputId": "a0277cb2-e57a-4c35-8897-28f3b6efe44c"
      },
      "execution_count": 25,
      "outputs": [
        {
          "output_type": "stream",
          "name": "stdout",
          "text": [
            "\n",
            "Матриця M:\n",
            " [[ 4  6]\n",
            " [ 8 10]]\n",
            "Матриця N:\n",
            " [[4 1]\n",
            " [7 5]]\n",
            "Добуток матриць M та N:\n",
            " [[ 58  34]\n",
            " [102  58]]\n"
          ]
        }
      ]
    },
    {
      "cell_type": "code",
      "source": [
        "matrix_o = np.random.randint(1, 101, size=(5, 5))\n",
        "sum_elements_o = np.sum(matrix_o)\n",
        "print(\"\\nМатриця O:\\n\", matrix_o)\n",
        "print(\"Сума елементів матриці O:\\n\", sum_elements_o)"
      ],
      "metadata": {
        "colab": {
          "base_uri": "https://localhost:8080/"
        },
        "id": "HODj8OiIM1NY",
        "outputId": "8b54e131-6209-4267-ff88-2747758ee263"
      },
      "execution_count": 24,
      "outputs": [
        {
          "output_type": "stream",
          "name": "stdout",
          "text": [
            "\n",
            "Матриця O:\n",
            " [[72 42 12 39 68]\n",
            " [32 91 96 52 65]\n",
            " [12 85 18  9 68]\n",
            " [94 55 30 21 26]\n",
            " [94  3 37 96  4]]\n",
            "Сума елементів матриці O:\n",
            " 1221\n"
          ]
        }
      ]
    },
    {
      "cell_type": "code",
      "source": [
        "matrix_p = np.random.randint(1, 11, size=(4, 4))\n",
        "matrix_q = np.random.randint(1, 11, size=(4, 4))\n",
        "difference_pq = matrix_p - matrix_q\n",
        "print(\"\\nМатриця P:\\n\", matrix_p)\n",
        "print(\"Матриця Q:\\n\", matrix_q)\n",
        "print(\"Різниця матриць P та Q:\\n\", difference_pq)"
      ],
      "metadata": {
        "colab": {
          "base_uri": "https://localhost:8080/"
        },
        "id": "bznNcWz_M1Ui",
        "outputId": "0a5d30b5-70b4-43ce-8c09-7c207ce8d40e"
      },
      "execution_count": 23,
      "outputs": [
        {
          "output_type": "stream",
          "name": "stdout",
          "text": [
            "\n",
            "Матриця P:\n",
            " [[8 6 9 8]\n",
            " [9 2 9 8]\n",
            " [2 1 5 4]\n",
            " [8 4 9 6]]\n",
            "Матриця Q:\n",
            " [[ 3  4  9  8]\n",
            " [10  8  1  9]\n",
            " [ 9  2  5  2]\n",
            " [ 8  8  7  2]]\n",
            "Різниця матриць P та Q:\n",
            " [[ 5  2  0  0]\n",
            " [-1 -6  8 -1]\n",
            " [-7 -1  0  2]\n",
            " [ 0 -4  2  4]]\n"
          ]
        }
      ]
    },
    {
      "cell_type": "code",
      "source": [
        "matrix_r = np.random.rand(3, 3)\n",
        "sum_rows_r = np.sum(matrix_r, axis=1)\n",
        "print(\"\\nМатриця R:\\n\", matrix_r)\n",
        "print(\"Суми елементів кожного рядка матриці R:\\n\", sum_rows_r)"
      ],
      "metadata": {
        "colab": {
          "base_uri": "https://localhost:8080/"
        },
        "id": "ETcsBVuGM1a4",
        "outputId": "80fddb50-74f6-4fea-bfb3-6891cf0ce304"
      },
      "execution_count": 22,
      "outputs": [
        {
          "output_type": "stream",
          "name": "stdout",
          "text": [
            "\n",
            "Матриця R:\n",
            " [[0.98536419 0.20957751 0.15641295]\n",
            " [0.58613572 0.8047334  0.32982106]\n",
            " [0.76808684 0.74394196 0.71284027]]\n",
            "Суми елементів кожного рядка матриці R:\n",
            " [1.35135466 1.72069018 2.22486907]\n"
          ]
        }
      ]
    },
    {
      "cell_type": "code",
      "source": [
        "matrix_s = np.random.randint(1, 11, size=(3, 4))\n",
        "matrix_s_squares = np.square(matrix_s)\n",
        "print(\"\\nМатриця S:\\n\", matrix_s)\n",
        "print(\"Матриця з квадратами чисел матриці S:\\n\", matrix_s_squares)"
      ],
      "metadata": {
        "colab": {
          "base_uri": "https://localhost:8080/"
        },
        "id": "5iwwOT_MM1lv",
        "outputId": "30bf1b4e-ab45-4acd-ac07-295e09345d55"
      },
      "execution_count": 21,
      "outputs": [
        {
          "output_type": "stream",
          "name": "stdout",
          "text": [
            "\n",
            "Матриця S:\n",
            " [[ 5  3  6 10]\n",
            " [ 4  7  1  1]\n",
            " [ 4  8  9  1]]\n",
            "Матриця з квадратами чисел матриці S:\n",
            " [[ 25   9  36 100]\n",
            " [ 16  49   1   1]\n",
            " [ 16  64  81   1]]\n"
          ]
        }
      ]
    },
    {
      "cell_type": "code",
      "source": [
        "vector_g = np.random.randint(1, 51, size=4)\n",
        "vector_g_sqrt = np.sqrt(vector_g)\n",
        "print(\"\\nВектор G:\\n\", vector_g)\n",
        "print(\"Вектор з квадратними коренями чисел вектора G:\\n\", vector_g_sqrt)"
      ],
      "metadata": {
        "colab": {
          "base_uri": "https://localhost:8080/"
        },
        "id": "dUnhLyxyM1rQ",
        "outputId": "95937ec3-eb87-465a-94b8-fee040a76039"
      },
      "execution_count": 20,
      "outputs": [
        {
          "output_type": "stream",
          "name": "stdout",
          "text": [
            "\n",
            "Вектор G:\n",
            " [37  9 20  9]\n",
            "Вектор з квадратними коренями чисел вектора G:\n",
            " [6.08276253 3.         4.47213595 3.        ]\n"
          ]
        }
      ]
    }
  ]
}